{
  "nbformat": 4,
  "nbformat_minor": 0,
  "metadata": {
    "colab": {
      "provenance": []
    },
    "kernelspec": {
      "name": "python3",
      "display_name": "Python 3"
    },
    "language_info": {
      "name": "python"
    }
  },
  "cells": [
    {
      "cell_type": "markdown",
      "source": [
        "# Data Science Tools and Ecosystem"
      ],
      "metadata": {
        "id": "RpYwfMB7bX8u"
      }
    },
    {
      "cell_type": "markdown",
      "source": [
        "In this notebook, Data Science Tools and Ecosystem are summarized."
      ],
      "metadata": {
        "id": "BvefqvLAcM-p"
      }
    },
    {
      "cell_type": "markdown",
      "source": [
        "Some of the popular languages that Data Scientists use are:\n",
        "1. Python\n",
        "2. R\n",
        "3. SQL (Structured Query Language):"
      ],
      "metadata": {
        "id": "6VLelmMGcggZ"
      }
    },
    {
      "cell_type": "markdown",
      "source": [
        "Some of the commonly used libraries used by Data Scientists include:\n",
        "1. NumPy\n",
        "1. Pandas\n",
        "1. Matplotlib"
      ],
      "metadata": {
        "id": "7kDTGUq1dKrc"
      }
    },
    {
      "cell_type": "markdown",
      "source": [
        "|Data Science Tools|\n",
        "|-------------------|\n",
        "|Jupyter Notebook|\n",
        "|RStudio|\n",
        "|VS Code|"
      ],
      "metadata": {
        "id": "mJRV2NnVdsGz"
      }
    },
    {
      "cell_type": "markdown",
      "source": [
        "###Below are a few examples of evaluating arithmetic expressions in Python"
      ],
      "metadata": {
        "id": "xa5_hbqSef1I"
      }
    },
    {
      "cell_type": "code",
      "source": [
        "#This a simple arithmetic expression to mutiply then add integers\n",
        "print((3*4)+5)"
      ],
      "metadata": {
        "colab": {
          "base_uri": "https://localhost:8080/"
        },
        "id": "u9l_fmC_ew1W",
        "outputId": "0b7076e1-ad67-45b8-c977-9b431a8134a1"
      },
      "execution_count": 5,
      "outputs": [
        {
          "output_type": "stream",
          "name": "stdout",
          "text": [
            "17\n"
          ]
        }
      ]
    },
    {
      "cell_type": "code",
      "source": [
        "#This will convert 200 minutes to hours by diving by 60\n",
        "print(200/60)"
      ],
      "metadata": {
        "colab": {
          "base_uri": "https://localhost:8080/"
        },
        "id": "jy0-zgLWgS8c",
        "outputId": "534f3f07-911e-42a1-f975-8655ee231e9c"
      },
      "execution_count": 6,
      "outputs": [
        {
          "output_type": "stream",
          "name": "stdout",
          "text": [
            "3.3333333333333335\n"
          ]
        }
      ]
    },
    {
      "cell_type": "markdown",
      "source": [
        "__Objectives:__\n",
        "List popular languages for Data Science\n",
        "* python\n",
        "* R\n",
        "* SQL"
      ],
      "metadata": {
        "id": "U3lnh0p9gkEY"
      }
    },
    {
      "cell_type": "markdown",
      "source": [
        "## Author\n",
        "Asish Debnath\n",
        "\n"
      ],
      "metadata": {
        "id": "0NLqbGMniXVH"
      }
    }
  ]
}