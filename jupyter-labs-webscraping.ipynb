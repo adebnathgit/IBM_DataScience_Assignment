{
 "cells": [
  {
   "cell_type": "markdown",
   "metadata": {},
   "source": [
    "<p style=\"text-align:center\">\n",
    "    <a href=\"https://skills.network\" target=\"_blank\">\n",
    "    <img src=\"https://cf-courses-data.s3.us.cloud-object-storage.appdomain.cloud/assets/logos/SN_web_lightmode.png\" width=\"200\" alt=\"Skills Network Logo\">\n",
    "    </a>\n",
    "</p>\n"
   ]
  },
  {
   "cell_type": "markdown",
   "metadata": {},
   "source": [
    "# **Space X  Falcon 9 First Stage Landing Prediction**\n"
   ]
  },
  {
   "cell_type": "markdown",
   "metadata": {},
   "source": [
    "## Web scraping Falcon 9 and Falcon Heavy Launches Records from Wikipedia\n"
   ]
  },
  {
   "cell_type": "markdown",
   "metadata": {},
   "source": [
    "Estimated time needed: **40** minutes\n"
   ]
  },
  {
   "cell_type": "markdown",
   "metadata": {},
   "source": [
    "In this lab, you will be performing web scraping to collect Falcon 9 historical launch records from a Wikipedia page titled `List of Falcon 9 and Falcon Heavy launches`\n",
    "\n",
    "https://en.wikipedia.org/wiki/List_of_Falcon_9_and_Falcon_Heavy_launches\n"
   ]
  },
  {
   "cell_type": "markdown",
   "metadata": {},
   "source": [
    "![](https://cf-courses-data.s3.us.cloud-object-storage.appdomain.cloud/IBM-DS0321EN-SkillsNetwork/labs/module_1_L2/images/Falcon9_rocket_family.svg)\n"
   ]
  },
  {
   "cell_type": "markdown",
   "metadata": {},
   "source": [
    "Falcon 9 first stage will land successfully\n"
   ]
  },
  {
   "cell_type": "markdown",
   "metadata": {},
   "source": [
    "![](https://cf-courses-data.s3.us.cloud-object-storage.appdomain.cloud/IBMDeveloperSkillsNetwork-DS0701EN-SkillsNetwork/api/Images/landing_1.gif)\n"
   ]
  },
  {
   "cell_type": "markdown",
   "metadata": {},
   "source": [
    "Several examples of an unsuccessful landing are shown here:\n"
   ]
  },
  {
   "cell_type": "markdown",
   "metadata": {},
   "source": [
    "![](https://cf-courses-data.s3.us.cloud-object-storage.appdomain.cloud/IBMDeveloperSkillsNetwork-DS0701EN-SkillsNetwork/api/Images/crash.gif)\n"
   ]
  },
  {
   "cell_type": "markdown",
   "metadata": {},
   "source": [
    "More specifically, the launch records are stored in a HTML table shown below:\n"
   ]
  },
  {
   "cell_type": "markdown",
   "metadata": {},
   "source": [
    "![](https://cf-courses-data.s3.us.cloud-object-storage.appdomain.cloud/IBM-DS0321EN-SkillsNetwork/labs/module_1_L2/images/falcon9-launches-wiki.png)\n"
   ]
  },
  {
   "cell_type": "markdown",
   "metadata": {},
   "source": [
    "  ## Objectives\n",
    "Web scrap Falcon 9 launch records with `BeautifulSoup`: \n",
    "- Extract a Falcon 9 launch records HTML table from Wikipedia\n",
    "- Parse the table and convert it into a Pandas data frame\n"
   ]
  },
  {
   "cell_type": "markdown",
   "metadata": {},
   "source": [
    "First let's import required packages for this lab\n"
   ]
  },
  {
   "cell_type": "code",
   "execution_count": 3,
   "metadata": {
    "tags": []
   },
   "outputs": [
    {
     "name": "stdout",
     "output_type": "stream",
     "text": [
      "Requirement already satisfied: beautifulsoup4 in /home/jupyterlab/conda/envs/python/lib/python3.7/site-packages (4.11.1)\n",
      "Requirement already satisfied: soupsieve>1.2 in /home/jupyterlab/conda/envs/python/lib/python3.7/site-packages (from beautifulsoup4) (2.3.2.post1)\n",
      "Requirement already satisfied: requests in /home/jupyterlab/conda/envs/python/lib/python3.7/site-packages (2.29.0)\n",
      "Requirement already satisfied: charset-normalizer<4,>=2 in /home/jupyterlab/conda/envs/python/lib/python3.7/site-packages (from requests) (3.1.0)\n",
      "Requirement already satisfied: idna<4,>=2.5 in /home/jupyterlab/conda/envs/python/lib/python3.7/site-packages (from requests) (3.4)\n",
      "Requirement already satisfied: urllib3<1.27,>=1.21.1 in /home/jupyterlab/conda/envs/python/lib/python3.7/site-packages (from requests) (1.26.15)\n",
      "Requirement already satisfied: certifi>=2017.4.17 in /home/jupyterlab/conda/envs/python/lib/python3.7/site-packages (from requests) (2023.5.7)\n"
     ]
    }
   ],
   "source": [
    "!pip3 install beautifulsoup4\n",
    "!pip3 install requests"
   ]
  },
  {
   "cell_type": "code",
   "execution_count": 1,
   "metadata": {
    "tags": []
   },
   "outputs": [],
   "source": [
    "import sys\n",
    "\n",
    "import requests\n",
    "from bs4 import BeautifulSoup\n",
    "import re\n",
    "import unicodedata\n",
    "import pandas as pd"
   ]
  },
  {
   "cell_type": "markdown",
   "metadata": {},
   "source": [
    "and we will provide some helper functions for you to process web scraped HTML table\n"
   ]
  },
  {
   "cell_type": "code",
   "execution_count": 3,
   "metadata": {
    "tags": []
   },
   "outputs": [
    {
     "name": "stdout",
     "output_type": "stream",
     "text": [
      "hello\n"
     ]
    }
   ],
   "source": [
    "def date_time(table_cells):\n",
    "    \"\"\"\n",
    "    This function returns the data and time from the HTML  table cell\n",
    "    Input: the  element of a table data cell extracts extra row\n",
    "    \"\"\"\n",
    "    return [data_time.strip() for data_time in list(table_cells.strings)][0:2]\n",
    "\n",
    "def booster_version(table_cells):\n",
    "    \"\"\"\n",
    "    This function returns the booster version from the HTML  table cell\n",
    "    Input: the  element of a table data cell extracts extra row\n",
    "    \"\"\"\n",
    "    out=''.join([booster_version for i,booster_version in enumerate( table_cells.strings) if i%2==0][0:-1])\n",
    "    #return out\n",
    "    #strings = [s.strip() for s in table_cells.strings if s.strip()]\n",
    "   # out = ''.join([s for i, s in enumerate(strings) if i % 2 == 0])\n",
    "    #return out\n",
    "\n",
    "def landing_status(table_cells):\n",
    "    \"\"\"\n",
    "    This function returns the landing status from the HTML table cell\n",
    "    Input: the  element of a table data cell extracts extra row\n",
    "    \"\"\"\n",
    "    #out=[i for i in table_cells.strings][0]\n",
    "    #return out\n",
    "    strings = [s.strip() for s in table_cells.strings if s.strip()]\n",
    "    return strings[0] if strings else \"N/A\"\n",
    "\n",
    "\n",
    "def get_mass(table_cells):\n",
    "    mass=unicodedata.normalize(\"NFKD\", table_cells.text).strip()\n",
    "    #if mass:\n",
    "        #mass.find(\"kg\")\n",
    "        #new_mass=mass[0:mass.find(\"kg\")+2]\n",
    "    #else:\n",
    "        #new_mass=0\n",
    "    #return new_mass\n",
    "    if \"kg\" in mass:\n",
    "        new_mass = mass[:mass.find(\"kg\")+2]\n",
    "    else:\n",
    "        new_mass = \"0\"\n",
    "    return new_mass\n",
    "\n",
    "\n",
    "def extract_column_from_header(row):\n",
    "    \"\"\"\n",
    "    This function returns the landing status from the HTML table cell\n",
    "    Input: the  element of a table data cell extracts extra row\n",
    "    \"\"\"\n",
    "    if (row.br):\n",
    "        row.br.extract()\n",
    "    if row.a:\n",
    "        row.a.extract()\n",
    "    if row.sup:\n",
    "        row.sup.extract()\n",
    "\n",
    "    #colunm_name = ' '.join(row.contents)\n",
    "    colunm_name = ' '.join([str(c) for c in row.contents])\n",
    "\n",
    "    # Filter the digit and empty names\n",
    "    if not(colunm_name.strip().isdigit()):\n",
    "        colunm_name = colunm_name.strip()\n",
    "        return colunm_name\n",
    "print('hello')"
   ]
  },
  {
   "cell_type": "markdown",
   "metadata": {},
   "source": [
    "To keep the lab tasks consistent, you will be asked to scrape the data from a snapshot of the  `List of Falcon 9 and Falcon Heavy launches` Wikipage updated on\n",
    "`9th June 2021`\n"
   ]
  },
  {
   "cell_type": "code",
   "execution_count": 5,
   "metadata": {
    "tags": []
   },
   "outputs": [],
   "source": [
    "static_url = \"https://en.wikipedia.org/w/index.php?title=List_of_Falcon_9_and_Falcon_Heavy_launches&oldid=1027686922\"\n",
    "\n",
    "headers = {\n",
    "    \"User-Agent\": \"Mozilla/5.0 (Windows NT 10.0; Win64; x64) \"\n",
    "                  \"AppleWebKit/537.36 (KHTML, like Gecko) \"\n",
    "                  \"Chrome/91.0.4472.124 Safari/537.36\"\n",
    "}\n",
    "\n",
    "\n",
    "#  added\n",
    "\n",
    "#soup = BeautifulSoup(resp.text, 'html.parser')\n",
    "#print('Fetched page:', static_url)"
   ]
  },
  {
   "cell_type": "markdown",
   "metadata": {},
   "source": [
    "Next, request the HTML page from the above URL and get a `response` object\n"
   ]
  },
  {
   "cell_type": "markdown",
   "metadata": {},
   "source": [
    "### TASK 1: Request the Falcon9 Launch Wiki page from its URL\n"
   ]
  },
  {
   "cell_type": "markdown",
   "metadata": {},
   "source": [
    "First, let's perform an HTTP GET method to request the Falcon9 Launch HTML page, as an HTTP response.\n"
   ]
  },
  {
   "cell_type": "code",
   "execution_count": 6,
   "metadata": {
    "tags": []
   },
   "outputs": [
    {
     "name": "stdout",
     "output_type": "stream",
     "text": [
      "None\n",
      "Status code: 200\n"
     ]
    }
   ],
   "source": [
    "# use requests.get() method with the provided static_url and headers\n",
    "# assign the response to a object\n",
    "resp = requests.get(static_url, headers=headers, timeout=20)\n",
    "print(resp.raise_for_status())\n",
    "print(\"Status code:\", resp.status_code)"
   ]
  },
  {
   "cell_type": "markdown",
   "metadata": {},
   "source": [
    "Create a `BeautifulSoup` object from the HTML `response`\n"
   ]
  },
  {
   "cell_type": "code",
   "execution_count": 7,
   "metadata": {
    "tags": []
   },
   "outputs": [
    {
     "name": "stdout",
     "output_type": "stream",
     "text": [
      "Fetched page: https://en.wikipedia.org/w/index.php?title=List_of_Falcon_9_and_Falcon_Heavy_launches&oldid=1027686922\n"
     ]
    }
   ],
   "source": [
    "# Use BeautifulSoup() to create a BeautifulSoup object from a response text content\n",
    "soup = BeautifulSoup(resp.text, 'html.parser')\n",
    "print('Fetched page:', static_url)"
   ]
  },
  {
   "cell_type": "markdown",
   "metadata": {},
   "source": [
    "Print the page title to verify if the `BeautifulSoup` object was created properly \n"
   ]
  },
  {
   "cell_type": "code",
   "execution_count": 8,
   "metadata": {
    "tags": []
   },
   "outputs": [
    {
     "data": {
      "text/plain": [
       "<title>List of Falcon 9 and Falcon Heavy launches - Wikipedia</title>"
      ]
     },
     "execution_count": 8,
     "metadata": {},
     "output_type": "execute_result"
    }
   ],
   "source": [
    "# Use soup.title attribute\n",
    "soup.title"
   ]
  },
  {
   "cell_type": "markdown",
   "metadata": {},
   "source": [
    "### TASK 2: Extract all column/variable names from the HTML table header\n"
   ]
  },
  {
   "cell_type": "markdown",
   "metadata": {},
   "source": [
    "Next, we want to collect all relevant column names from the HTML table header\n"
   ]
  },
  {
   "cell_type": "markdown",
   "metadata": {},
   "source": [
    "Let's try to find all tables on the wiki page first. If you need to refresh your memory about `BeautifulSoup`, please check the external reference link towards the end of this lab\n"
   ]
  },
  {
   "cell_type": "code",
   "execution_count": 9,
   "metadata": {
    "tags": []
   },
   "outputs": [
    {
     "name": "stdout",
     "output_type": "stream",
     "text": [
      "Found 25 tables\n"
     ]
    }
   ],
   "source": [
    "# Use the find_all function in the BeautifulSoup object, with element type `table`\n",
    "# Assign the result to a list called `html_tables`\n",
    "#html_tables = soup.find_all('table', class_='wikitable plainrowheaders collapsible')\n",
    "#html_tables = soup.find('table', class_='wikitable plainrowheaders collapsible')\n",
    "html_tables = soup.find_all(\"table\")\n",
    "\n",
    "print('Found', len(html_tables), 'tables')"
   ]
  },
  {
   "cell_type": "markdown",
   "metadata": {},
   "source": [
    "Starting from the third table is our target table contains the actual launch records.\n"
   ]
  },
  {
   "cell_type": "code",
   "execution_count": 10,
   "metadata": {
    "tags": []
   },
   "outputs": [],
   "source": [
    "# Let's print the third table and check its content\n",
    "first_launch_table = html_tables[2]\n",
    "#print(first_launch_table)"
   ]
  },
  {
   "cell_type": "markdown",
   "metadata": {},
   "source": [
    "You should able to see the columns names embedded in the table header elements `<th>` as follows:\n"
   ]
  },
  {
   "cell_type": "markdown",
   "metadata": {},
   "source": [
    "```\n",
    "<tr>\n",
    "<th scope=\"col\">Flight No.\n",
    "</th>\n",
    "<th scope=\"col\">Date and<br/>time (<a href=\"/wiki/Coordinated_Universal_Time\" title=\"Coordinated Universal Time\">UTC</a>)\n",
    "</th>\n",
    "<th scope=\"col\"><a href=\"/wiki/List_of_Falcon_9_first-stage_boosters\" title=\"List of Falcon 9 first-stage boosters\">Version,<br/>Booster</a> <sup class=\"reference\" id=\"cite_ref-booster_11-0\"><a href=\"#cite_note-booster-11\">[b]</a></sup>\n",
    "</th>\n",
    "<th scope=\"col\">Launch site\n",
    "</th>\n",
    "<th scope=\"col\">Payload<sup class=\"reference\" id=\"cite_ref-Dragon_12-0\"><a href=\"#cite_note-Dragon-12\">[c]</a></sup>\n",
    "</th>\n",
    "<th scope=\"col\">Payload mass\n",
    "</th>\n",
    "<th scope=\"col\">Orbit\n",
    "</th>\n",
    "<th scope=\"col\">Customer\n",
    "</th>\n",
    "<th scope=\"col\">Launch<br/>outcome\n",
    "</th>\n",
    "<th scope=\"col\"><a href=\"/wiki/Falcon_9_first-stage_landing_tests\" title=\"Falcon 9 first-stage landing tests\">Booster<br/>landing</a>\n",
    "</th></tr>\n",
    "```\n"
   ]
  },
  {
   "cell_type": "markdown",
   "metadata": {},
   "source": [
    "Next, we just need to iterate through the `<th>` elements and apply the provided `extract_column_from_header()` to extract column name one by one\n"
   ]
  },
  {
   "cell_type": "code",
   "execution_count": 11,
   "metadata": {
    "tags": []
   },
   "outputs": [],
   "source": [
    "#column_names = [\"Flight Number\",\"Date\",\"Booster Version\",\"Launch Site\",\"Payload\",\"Payload Mass\",\"Orbit\",\"Customer\",\"Launch outcome\",\"Booster landing\"]\n",
    "column_names =[]\n",
    "#for th in first_launch_table.find_all('th'):\n",
    " #   col_name = extract_column_from_header(th)\n",
    "  #  column_names.append(col_name)\n",
    "element = soup.find_all('th')\n",
    "for row in range(len(element)):\n",
    "    try:\n",
    "        name = extract_column_from_header(element[row])\n",
    "        if (name is not None and len(name) > 0):\n",
    "            column_names.append(name)\n",
    "    except:\n",
    "        pass\n",
    "# Apply find_all() function with `th` element on first_launch_table\n",
    "# Iterate each th element and apply the provided extract_column_from_header() to get a column name\n",
    "# Append the Non-empty column name (`if name is not None and len(name) > 0`) into a list called column_names\n"
   ]
  },
  {
   "cell_type": "markdown",
   "metadata": {},
   "source": [
    "Check the extracted column names\n"
   ]
  },
  {
   "cell_type": "code",
   "execution_count": 12,
   "metadata": {
    "tags": []
   },
   "outputs": [
    {
     "name": "stdout",
     "output_type": "stream",
     "text": [
      "['Flight No.', 'Date and time ( )', 'Launch site', 'Payload', 'Payload mass', 'Orbit', 'Customer', 'Launch outcome', 'Flight No.', 'Date and time ( )', 'Launch site', 'Payload', 'Payload mass', 'Orbit', 'Customer', 'Launch outcome', 'Flight No.', 'Date and time ( )', 'Launch site', 'Payload', 'Payload mass', 'Orbit', 'Customer', 'Launch outcome', 'Flight No.', 'Date and time ( )', 'Launch site', 'Payload', 'Payload mass', 'Orbit', 'Customer', 'Launch outcome', 'N/A', 'Flight No.', 'Date and time ( )', 'Launch site', 'Payload', 'Payload mass', 'Orbit', 'Customer', 'Launch outcome', 'Flight No.', 'Date and time ( )', 'Launch site', 'Payload', 'Payload mass', 'Orbit', 'Customer', 'Launch outcome', 'Flight No.', 'Date and time ( )', 'Launch site', 'Payload', 'Payload mass', 'Orbit', 'Customer', 'Launch outcome', 'FH 2', 'FH 3', 'Flight No.', 'Date and time ( )', 'Launch site', 'Payload', 'Payload mass', 'Orbit', 'Customer', 'Launch outcome', 'Flight\\n <p>No.\\n</p>', 'Date and time ( )', 'Launch site', 'Payload', 'Payload mass', 'Orbit', 'Customer', 'Launch outcome', 'Date and time ( )', 'Launch site', 'Payload', 'Orbit', 'Customer', 'Date and time ( )', 'Launch site', 'Payload', 'Orbit', 'Customer', 'Date and time ( )', 'Launch site', 'Payload', 'Orbit', 'Customer', 'Date and time ( )', 'Launch site', 'Payload', 'Orbit', 'Customer', '<link href=\"mw-data:TemplateStyles:r1129693374\" rel=\"mw-deduplicated-inline-style\"/> <style data-mw-deduplicate=\"TemplateStyles:r1239400231\">.mw-parser-output .navbar{display:inline;font-size:88%;font-weight:normal}.mw-parser-output .navbar-collapse{float:left;text-align:left}.mw-parser-output .navbar-boxtext{word-spacing:0}.mw-parser-output .navbar ul{display:inline-block;white-space:nowrap;line-height:inherit}.mw-parser-output .navbar-brackets::before{margin-right:-0.125em;content:\"[ \"}.mw-parser-output .navbar-brackets::after{margin-left:-0.125em;content:\" ]\"}.mw-parser-output .navbar li{word-spacing:-0.125em}.mw-parser-output .navbar a>span,.mw-parser-output .navbar a>abbr{text-decoration:inherit}.mw-parser-output .navbar-mini abbr{font-variant:small-caps;border-bottom:none;text-decoration:none;cursor:inherit}.mw-parser-output .navbar-ct-full{font-size:114%;margin:0 7em}.mw-parser-output .navbar-ct-mini{font-size:114%;margin:0 4em}html.skin-theme-clientpref-night .mw-parser-output .navbar li a abbr{color:var(--color-base)!important}@media(prefers-color-scheme:dark){html.skin-theme-clientpref-os .mw-parser-output .navbar li a abbr{color:var(--color-base)!important}}@media print{.mw-parser-output .navbar{display:none!important}}</style> <div class=\"navbar plainlinks hlist navbar-mini\"><ul><li class=\"nv-view\"></li><li class=\"nv-talk\"><a href=\"/wiki/Template_talk:SpaceX_missions_and_payloads\" title=\"Template talk:SpaceX missions and payloads\"><abbr title=\"Discuss this template\">t</abbr></a></li><li class=\"nv-edit\"><a href=\"/wiki/Special:EditPage/Template:SpaceX_missions_and_payloads\" title=\"Special:EditPage/Template:SpaceX missions and payloads\"><abbr title=\"Edit this template\">e</abbr></a></li></ul></div> <div id=\"SpaceX_missions_and_payloads10471\" style=\"font-size:114%;margin:0 4em\">SpaceX missions and payloads</div>', 'Demonstrations', 'logistics', 'Crewed', 'Commercial satellites', 'Scientific satellites', 'Military satellites', 'Rideshares', 'Transporter', 'Bandwagon', 'Flight tests', 'Crewed', 'Commercial satellites', '<link href=\"mw-data:TemplateStyles:r1129693374\" rel=\"mw-deduplicated-inline-style\"/> <link href=\"mw-data:TemplateStyles:r1239400231\" rel=\"mw-deduplicated-inline-style\"/> <div class=\"navbar plainlinks hlist navbar-mini\"><ul><li class=\"nv-view\"></li><li class=\"nv-talk\"><a href=\"/wiki/Template_talk:SpaceX\" title=\"Template talk:SpaceX\"><abbr title=\"Discuss this template\">t</abbr></a></li><li class=\"nv-edit\"><a href=\"/wiki/Special:EditPage/Template:SpaceX\" title=\"Special:EditPage/Template:SpaceX\"><abbr title=\"Edit this template\">e</abbr></a></li></ul></div> <div id=\"SpaceX4749\" style=\"font-size:114%;margin:0 4em\"><a href=\"/wiki/SpaceX\" title=\"SpaceX\">SpaceX</a></div>', 'Current', 'In development', 'Retired', 'Cancelled', 'Spacecraft', 'Cargo', 'Crewed', 'Test vehicles', 'Current', 'Retired', 'Landing sites', 'Other facilities', 'Support', 'Contracts', 'R&D programs', 'Key people', 'Related', '<link href=\"mw-data:TemplateStyles:r1129693374\" rel=\"mw-deduplicated-inline-style\"/> <link href=\"mw-data:TemplateStyles:r1239400231\" rel=\"mw-deduplicated-inline-style\"/> <div class=\"navbar plainlinks hlist navbar-mini\"><ul><li class=\"nv-view\"></li><li class=\"nv-talk\"><a href=\"/wiki/Template_talk:Spaceflight_lists_and_timelines\" title=\"Template talk:Spaceflight lists and timelines\"><abbr title=\"Discuss this template\">t</abbr></a></li><li class=\"nv-edit\"><a href=\"/wiki/Special:EditPage/Template:Spaceflight_lists_and_timelines\" title=\"Special:EditPage/Template:Spaceflight lists and timelines\"><abbr title=\"Edit this template\">e</abbr></a></li></ul></div> <div id=\"Spaceflight_lists_and_timelines11671\" style=\"font-size:114%;margin:0 4em\"><a href=\"/wiki/Spaceflight\" title=\"Spaceflight\">Spaceflight</a> lists and timelines</div>', 'General', 'General', '<i></i>', 'People', 'Vehicles', 'Launches by rocket type', 'Launches by spaceport', 'Agencies, companies and facilities', 'Other mission lists and timelines']\n"
     ]
    }
   ],
   "source": [
    "print(column_names)"
   ]
  },
  {
   "cell_type": "markdown",
   "metadata": {},
   "source": [
    "## TASK 3: Create a data frame by parsing the launch HTML tables\n"
   ]
  },
  {
   "cell_type": "markdown",
   "metadata": {},
   "source": [
    "We will create an empty dictionary with keys from the extracted column names in the previous task. Later, this dictionary will be converted into a Pandas dataframe\n"
   ]
  },
  {
   "cell_type": "code",
   "execution_count": 13,
   "metadata": {
    "tags": []
   },
   "outputs": [],
   "source": [
    "launch_dict= dict.fromkeys(column_names)\n",
    "\n",
    "# Remove an irrelvant column\n",
    "del launch_dict['Date and time ( )']\n",
    "\n",
    "# Let's initial the launch_dict with each value to be an empty list\n",
    "launch_dict['Flight No.'] = []\n",
    "launch_dict['Launch site'] = []\n",
    "launch_dict['Payload'] = []\n",
    "launch_dict['Payload mass'] = []\n",
    "launch_dict['Orbit'] = []\n",
    "launch_dict['Customer'] = []\n",
    "launch_dict['Launch outcome'] = []\n",
    "# Added some new columns\n",
    "launch_dict['Version Booster']=[]\n",
    "launch_dict['Booster landing']=[]\n",
    "launch_dict['Date']=[]\n",
    "launch_dict['Time']=[]"
   ]
  },
  {
   "cell_type": "markdown",
   "metadata": {},
   "source": [
    "Next, we just need to fill up the `launch_dict` with launch records extracted from table rows.\n"
   ]
  },
  {
   "cell_type": "markdown",
   "metadata": {},
   "source": [
    "Usually, HTML tables in Wiki pages are likely to contain unexpected annotations and other types of noises, such as reference links `B0004.1[8]`, missing values `N/A [e]`, inconsistent formatting, etc.\n"
   ]
  },
  {
   "cell_type": "markdown",
   "metadata": {},
   "source": [
    "To simplify the parsing process, we have provided an incomplete code snippet below to help you to fill up the `launch_dict`. Please complete the following code snippet with TODOs or you can choose to write your own logic to parse all launch tables:\n"
   ]
  },
  {
   "cell_type": "code",
   "execution_count": 14,
   "metadata": {
    "tags": []
   },
   "outputs": [],
   "source": [
    "# Starting from the third table (index 2), which contains actual launch records\n",
    "launch_dict = {\n",
    "    \"Flight No.\": [],\n",
    "    \"Date\": [],\n",
    "    \"Time (UTC)\": [],\n",
    "    \"Version Booster\": [],\n",
    "    \"Launch Site\": [],\n",
    "    \"Payload\": [],\n",
    "    \"Payload Mass\": [],\n",
    "    \"Orbit\": [],\n",
    "    \"Customer\": [],\n",
    "    \"Launch Outcome\": [],\n",
    "    \"Landing Outcome\": []\n",
    "}\n",
    "\n",
    "for table in html_tables[2:]:  # skip the first two tables\n",
    "    rows = table.find_all(\"tr\")\n",
    "    \n",
    "    for row in rows[1:]:  # skip header\n",
    "        cells = row.find_all(\"td\")\n",
    "        if not cells:  # skip empty rows\n",
    "            continue\n",
    "        \n",
    "        # Use safe get with default\n",
    "        def get_cell(idx):\n",
    "            return cells[idx].text.strip() if idx < len(cells) else \"N/A\"\n",
    "        \n",
    "        # Flight No.\n",
    "        launch_dict[\"Flight No.\"].append(get_cell(0))\n",
    "        \n",
    "        # Date and Time\n",
    "        if len(cells) > 1:\n",
    "            dt = date_time(cells[1])\n",
    "            launch_dict[\"Date\"].append(dt[0] if len(dt) > 0 else \"N/A\")\n",
    "            launch_dict[\"Time (UTC)\"].append(dt[1] if len(dt) > 1 else \"N/A\")\n",
    "        else:\n",
    "            launch_dict[\"Date\"].append(\"N/A\")\n",
    "            launch_dict[\"Time (UTC)\"].append(\"N/A\")\n",
    "        \n",
    "        # Version Booster\n",
    "        launch_dict[\"Version Booster\"].append(booster_version(cells[2]) if len(cells) > 2 else \"N/A\")\n",
    "        \n",
    "        # Launch Site\n",
    "        launch_dict[\"Launch Site\"].append(get_cell(3))\n",
    "        \n",
    "        # Payload\n",
    "        launch_dict[\"Payload\"].append(get_cell(4))\n",
    "        \n",
    "        # Payload Mass\n",
    "        launch_dict[\"Payload Mass\"].append(get_mass(cells[5]) if len(cells) > 5 else \"0\")\n",
    "        \n",
    "        # Orbit\n",
    "        launch_dict[\"Orbit\"].append(get_cell(6))\n",
    "        \n",
    "        # Customer\n",
    "        launch_dict[\"Customer\"].append(get_cell(7))\n",
    "        \n",
    "        # Launch Outcome\n",
    "        launch_dict[\"Launch Outcome\"].append(get_cell(8))\n",
    "        \n",
    "        # Landing Outcome\n",
    "        launch_dict[\"Landing Outcome\"].append(\n",
    "            landing_status(cells[9]) if len(cells) > 9 else \"N/A\"\n",
    "        )\n"
   ]
  },
  {
   "cell_type": "markdown",
   "metadata": {},
   "source": [
    "After you have fill in the parsed launch record values into `launch_dict`, you can create a dataframe from it.\n"
   ]
  },
  {
   "cell_type": "code",
   "execution_count": 18,
   "metadata": {
    "tags": []
   },
   "outputs": [
    {
     "name": "stdout",
     "output_type": "stream",
     "text": [
      "0\n",
      "['SpaceX' 'N/A' 'NASA (COTS)\\nNRO' 'NASA (COTS)' 'NASA (CRS)' 'MDA' 'SES'\n",
      " 'Thaicom' 'Orbcomm' 'AsiaSat' 'USAF\\nNASA\\nNOAA' 'ABS\\nEutelsat'\n",
      " 'Turkmenistan NationalSpace Agency[88]' 'NASA (LSP)\\nNOAA\\nCNES'\n",
      " 'SKY Perfect JSAT Group' 'Spacecom' 'Iridium Communications' 'EchoStar'\n",
      " 'NRO' 'Inmarsat' 'Bulsatcom' 'Intelsat' 'NSPO' 'USAF'\n",
      " 'SES S.A.\\nEchoStar' 'KT Corporation' 'Northrop Grumman [f][238]'\n",
      " 'Hisdesat\\nexactEarth\\nSpaceX' 'Hispasat[277]\\nNovaWurks' 'NASA (LSP)'\n",
      " 'Thales-Alenia / BTRC' 'Iridium Communications\\nGFZ\\xa0• NASA' 'Telesat'\n",
      " 'Telkom Indonesia' 'CONAE' \"Es'hailSat\" 'Spaceflight Industries'\n",
      " 'PSN\\nSpaceIL / IAI\\nAir Force Research' 'NASA (CCD)' 'Arabsat'\n",
      " 'Canadian Space Agency (CSA)' 'Sky Perfect JSATKacific 1'\n",
      " 'NASA (CTS)[497]' 'NASA (CCDev)' 'SpaceXPlanet Labs'\n",
      " 'U.S. Space Force[530]' 'Republic of Korea Army'\n",
      " 'SpaceXSpaceflight Industries (BlackSky)' 'CONAEPlanetIQTyvak' 'USSF'\n",
      " 'NASA (CCP)[497]' 'NASA / NOAA / ESA / EUMETSAT' 'Sirius XM' 'Türksat'\n",
      " 'Various' 'SpaceX Capella Space and Tyvak'\n",
      " 'NROL-76\\nX-37B OTV-5\\nZuma\\nSES-16 / GovSat-1\\nPaz\\nGPS III-01\\nANASIS-II\\nGPS III-03\\nNROL-108\\nGPS III-04\\nGPS III-05\\nCOSMO-SkyMed CSG-2\\nNROL-87\\nNROL-85 (Intruder 13A/B)\\nSARah 1\\nEROS-C3\\nGPS III-06\\nTransport and Tracking Layer (Tranche 0, Flight 1)\\nTransport and Tracking Layer (Tranche 0, Flight 2)\\n425 Project flight 1 (EO/IR)\\nSARah 2/3\\nUSSF-124\\n425 Project flight 2 (SAR #1)\\nWeather System Follow-on Microwave 1\\nNROL-146\\nNROL-186\\nNROL-113\\nNROL-167\\nNROL-126\\nGPS III-07\\nNROL-149\\n425 Project flight 3 (SAR #2)\\nNROL-153\\nSpainsat NG I\\nNROL-57\\nNROL-69\\nNROL-192\\nNROL-145\\n425 Project flight 4 (SAR #3)\\nGPS III-08\\nSDA Tranche 1 DES\\nDror-1\\nUSSF-36 (X-37B OTV-8)\\nNational Advanced Optical System (NAOS)\\nSDA Tranche 1 Transport layer T1TL-B\\n425 Project flight 5 (SAR #4)\\nSpainsat NG II\\nSDA Tranche 1 Transport layer T1TL-C\\nSDA Tranche 1 Transport layer T1TL-D\\nSDA Tranche 1 Transport layer T1TL-E\\nSDA Tranche 1 Tracking layer T1TR-C\\nUSSF-31\\nSkynet 6A\\nSDA Tranche 1 Transport layer T1TL-F\\nSDA Tranche 1 Tracking layer T1TR-A\\nSDA Tranche 1 Tracking layer T1TR-E\\nSDA Tranche 2 Transport layer T2TL-A\\nSDA Tranche 2 Transport layer T2TL-C\\nSDA Tranche 2 Transport layer T2TL-D\\nSDA Tranche 2 Transport layer T2TL-E\\nUSSF-75\\nUSSF-70'\n",
      " 'Crews\\nMissions\\nRollbacks']\n",
      "Number of launches to geosynchronous orbit: 0\n"
     ]
    }
   ],
   "source": [
    "df= pd.DataFrame({ key:pd.Series(value) for key, value in launch_dict.items() })\n",
    "#df.to_csv('spacex_web_scraped.csv', index=False)\n",
    "df.head(5)\n",
    "geo_launches = df[df['Orbit'].isin(['GTO', 'GEO'])]\n",
    "\n",
    "# Count them\n",
    "count_geo = geo_launches.shape[0]\n",
    "print(count_geo)\n",
    "print(df['Orbit'].unique())\n",
    "geo_count = df[df['Orbit'].isin(['GTO', 'GEO'])].shape[0]\n",
    "\n",
    "print(\"Number of launches to geosynchronous orbit:\", geo_count)\n",
    "#df.to_csv('spacex_web_scraped.csv', index=False)"
   ]
  },
  {
   "cell_type": "markdown",
   "metadata": {},
   "source": [
    "We can now export it to a <b>CSV</b> for the next section, but to make the answers consistent and in case you have difficulties finishing this lab. \n",
    "\n",
    "Following labs will be using a provided dataset to make each lab independent. \n"
   ]
  },
  {
   "cell_type": "markdown",
   "metadata": {},
   "source": [
    "<code>df.to_csv('spacex_web_scraped.csv', index=False)</code>\n"
   ]
  },
  {
   "cell_type": "markdown",
   "metadata": {},
   "source": [
    "## Authors\n"
   ]
  },
  {
   "cell_type": "markdown",
   "metadata": {},
   "source": [
    "<a href=\"https://www.linkedin.com/in/yan-luo-96288783/\">Yan Luo</a>\n"
   ]
  },
  {
   "cell_type": "markdown",
   "metadata": {},
   "source": [
    "<a href=\"https://www.linkedin.com/in/nayefaboutayoun/\">Nayef Abou Tayoun</a>\n"
   ]
  },
  {
   "cell_type": "markdown",
   "metadata": {},
   "source": [
    "<!--\n",
    "## Change Log\n",
    "-->\n"
   ]
  },
  {
   "cell_type": "markdown",
   "metadata": {},
   "source": [
    "<!--\n",
    "| Date (YYYY-MM-DD) | Version | Changed By | Change Description      |\n",
    "| ----------------- | ------- | ---------- | ----------------------- |\n",
    "| 2021-06-09        | 1.0     | Yan Luo    | Tasks updates           |\n",
    "| 2020-11-10        | 1.0     | Nayef      | Created the initial version |\n",
    "-->\n"
   ]
  },
  {
   "cell_type": "markdown",
   "metadata": {},
   "source": [
    "Copyright © 2021 IBM Corporation. All rights reserved.\n"
   ]
  }
 ],
 "metadata": {
  "kernelspec": {
   "display_name": "Python",
   "language": "python",
   "name": "conda-env-python-py"
  },
  "language_info": {
   "codemirror_mode": {
    "name": "ipython",
    "version": 3
   },
   "file_extension": ".py",
   "mimetype": "text/x-python",
   "name": "python",
   "nbconvert_exporter": "python",
   "pygments_lexer": "ipython3",
   "version": "3.7.12"
  },
  "prev_pub_hash": "935d3177ae0c3f2ed2083cb1927c99bbd0b33214dfff8dadb45ee7d62f8f3b99"
 },
 "nbformat": 4,
 "nbformat_minor": 4
}
